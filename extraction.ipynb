{
 "cells": [
  {
   "cell_type": "code",
   "execution_count": 1,
   "id": "90db758b-24fa-4e13-8900-d4dd0dc35f7e",
   "metadata": {
    "tags": []
   },
   "outputs": [
    {
     "name": "stdout",
     "output_type": "stream",
     "text": [
      "/bin/bash: pip3: command not found\n"
     ]
    }
   ],
   "source": [
    "! pip3 install openpyxl xlrd"
   ]
  },
  {
   "cell_type": "code",
   "execution_count": 1,
   "id": "b60d9618-1ba4-4be6-bb38-87243abd3dbd",
   "metadata": {
    "tags": []
   },
   "outputs": [
    {
     "name": "stderr",
     "output_type": "stream",
     "text": [
      "/root/miniconda3/envs/myconda/lib/python3.9/site-packages/tqdm/auto.py:21: TqdmWarning: IProgress not found. Please update jupyter and ipywidgets. See https://ipywidgets.readthedocs.io/en/stable/user_install.html\n",
      "  from .autonotebook import tqdm as notebook_tqdm\n"
     ]
    }
   ],
   "source": [
    "import torch\n",
    "import pandas as pd\n",
    "import re\n",
    "\n",
    "from torch.nn.utils.rnn import pad_sequence\n",
    "from torch.utils.data import Dataset, RandomSampler, DataLoader\n",
    "from transformers import AutoConfig, AutoModel, AutoTokenizer\n",
    "from tqdm import tqdm"
   ]
  },
  {
   "cell_type": "code",
   "execution_count": 2,
   "id": "b67f35c2-94f1-45d4-895c-e4659438ec12",
   "metadata": {
    "tags": []
   },
   "outputs": [],
   "source": [
    "tqdm.pandas(desc=\"process\")"
   ]
  },
  {
   "cell_type": "markdown",
   "id": "f951a4d2-0991-4cb7-b206-8fff1177433a",
   "metadata": {},
   "source": [
    "# load model\n",
    "采用清华大学开源chatglm-6b模型的int8优化版本，显存需求不超过8G"
   ]
  },
  {
   "cell_type": "code",
   "execution_count": 3,
   "id": "cf73d20f-a19c-4b5b-a08c-12fd694c8a55",
   "metadata": {
    "tags": []
   },
   "outputs": [],
   "source": [
    "tokenizer = AutoTokenizer.from_pretrained(\"THUDM/chatglm-6b\", trust_remote_code=True)"
   ]
  },
  {
   "cell_type": "code",
   "execution_count": 3,
   "id": "d9be7647-6631-4778-9518-9bae1152b50e",
   "metadata": {
    "tags": []
   },
   "outputs": [
    {
     "name": "stdout",
     "output_type": "stream",
     "text": [
      "No compiled kernel found.\n",
      "Compiling kernels : /root/.cache/huggingface/modules/transformers_modules/THUDM/chatglm-6b-int8/22906aeb32fd7952ce323dc9d25e01693b270da6/quantization_kernels_parallel.c\n",
      "Compiling gcc -O3 -fPIC -pthread -fopenmp -std=c99 /root/.cache/huggingface/modules/transformers_modules/THUDM/chatglm-6b-int8/22906aeb32fd7952ce323dc9d25e01693b270da6/quantization_kernels_parallel.c -shared -o /root/.cache/huggingface/modules/transformers_modules/THUDM/chatglm-6b-int8/22906aeb32fd7952ce323dc9d25e01693b270da6/quantization_kernels_parallel.so\n",
      "Load kernel : /root/.cache/huggingface/modules/transformers_modules/THUDM/chatglm-6b-int8/22906aeb32fd7952ce323dc9d25e01693b270da6/quantization_kernels_parallel.so\n",
      "Setting CPU quantization kernel threads to 48\n",
      "Using quantization cache\n",
      "Applying quantization to glm layers\n"
     ]
    }
   ],
   "source": [
    "model = AutoModel.from_pretrained(\"THUDM/chatglm-6b-int8\", trust_remote_code=True).half().cuda()\n",
    "model = model.eval()"
   ]
  },
  {
   "cell_type": "code",
   "execution_count": 4,
   "id": "c225a268-3fc4-4742-8869-bb39577108c9",
   "metadata": {
    "tags": []
   },
   "outputs": [
    {
     "name": "stderr",
     "output_type": "stream",
     "text": [
      "The dtype of attention mask (torch.int64) is not bool\n"
     ]
    },
    {
     "data": {
      "text/plain": [
       "('你好👋！我是人工智能助手 ChatGLM-6B，很高兴见到你，欢迎问我任何问题。',\n",
       " [('你好', '你好👋！我是人工智能助手 ChatGLM-6B，很高兴见到你，欢迎问我任何问题。')])"
      ]
     },
     "execution_count": 4,
     "metadata": {},
     "output_type": "execute_result"
    }
   ],
   "source": [
    "model.chat(tokenizer, '你好')"
   ]
  },
  {
   "cell_type": "code",
   "execution_count": 7,
   "id": "bd5b7dd2-81c5-45b5-8238-69418d55bb4f",
   "metadata": {
    "tags": []
   },
   "outputs": [],
   "source": [
    "promp = \"\"\"\n",
    "你是一个导购机器人，这里有一篇笔记本电脑的产品描述：\n",
    "#聊一款高性价比的入门级游戏本# #聊一款高性价比的入门级游戏本# #原创#猪王# 笔吧评测室 #2023-04-11 09:59#发表于#上海#收录于合集##机械革命#35#个##价格敏感型消费者#161#个# # # #今日点评【411】# #音频：# # # # # # # # # # # # # # #00:00# #00:27# # # # # # # # # # #说道“性价比游戏本”，很多人的第一反应是“机械革命”，但我们今天的主角并非机械革命 极光Pro，而是师出同门的“极光E”系列。#同样身为极光，极光E的性价比很高，#i7#+#RTX4050#售价#5499元#，是一款很便宜的入门级游戏本。#那么这台电脑实测表现究竟如何？#今天我们就来简单分析一下：#机械革命 极光E 极速版#左滑看接口#机身左侧#机身右侧#机身后部#它的配置如下：#i7-12650H 处理器#RTX4050#6GB 独立显卡（105W）#16GB DDR4#3200MHz 内存#512GB 固态硬盘#15.6英寸 2560×1440分辨率 100%sRGB色域 165Hz刷新率 IPS屏#厚\\xa022.6~26.7mm#机身重\\xa02.15kg#适配器重\\xa0792g#参考售价5499元#它的优缺点如下：#优点！#1，性价比较高#2，同价位游戏本中屏幕素质较好#3，机身重量比较轻#缺点！#1，使用QLC固态硬盘#2，网卡性能较差#3，高负载下，键盘温度较高#【升级建议】#这台笔记本电脑拆机不难，卸下底面螺丝即可揭开后盖。#双通道16GB#DDR4 3200MHz内存能满足大部分用途的需求，如有需要可自行更换内存。#测试机的固态硬盘容量为512GB，型号是Intel 670P，QLC颗粒，支持PCIe3.0x4和NVMe，如有需要可自行加装固态硬盘。#无线网卡是Intel的AX101，支持1T1R和80MHz频宽，最大连接速率600MHz，吞吐性能不如2T2R的WiFi5#160MHz#（最大连接速率1733MHz）#，这对于内外网访问都会有不小的影响，如果有条件可以自行更换网卡。#【购买建议】#1，不想要太重的游戏本#2，对屏幕素质有一定要求#3，价格敏感型消费者#机械革命 极光E 极速版最大的特点就是便宜，i7+RTX4050仅售5499元。#屏幕方面#，它采用了一块经过出厂校色的2.5K165Hz屏，这一点待遇比极光Pro还更高。实测色域容积110.8%sRGB，色域覆盖99.4%sRGB，平均ΔE 1.29，最大ΔE 2.53，实测最大亮度412nit。#接口方面#，机身左侧依次为防盗锁口、USB2.0、耳机麦克风接口；#机身右侧为两个USB-A 5Gbps、SD卡槽#（2.0速率）#；#机身后侧为电源接口、RJ45网口、HDMI2.1、USB-C 10Gbps、miniDP接口。#噪音方面#，在环境噪音为36.9dB时，它的满载人位分贝值为53.5dB。#机械革命 极光E 极速版主要在PDD卖，就是一台专注于杀价的游戏本。#所以如果你的预算不足，就想买高性价比游戏本，那么这台电脑可以考虑一下。#但如果你想要一台各方面表现均衡的游戏本，那么这台电脑并不适合你。#【散热分析】#上图是机械革命 极光E 极速版的拆机实拍图，五热管双风扇的组合。#室温25℃#反射率1.0#BIOS版本：N.1.09MRO08#在满载状态下，开启狂暴模式，CPU温度最高96℃，稳定在91℃左右，功耗50W，P核频率3.0GHz，E核频率2.4GHz；#显卡功耗约105W，温度77.5℃，频率2265MHz。#如果单烤Stress#FPU，CPU温度维持在94℃，功耗82W，P核频率3.9GHz，E核频率3.0GHz。#如果单烤Furmark，显卡温度72.8℃，功耗105W，频率2250MHz。#表面温度如上图所示，键盘键帽最高#47℃#出现在键盘中部，WASD键附近约为39.2℃，方向键32℃。左腕托温度为26.5℃。#总的来说，机械革命 极光E 极速版的散热表现一般，主要问题在于键盘温度控制上，游戏常用的键区比较热，建议有条件的话外接键盘使用。#【猪王的良心结语】#机械革命 极光E 极速版的表现不出所料，作为主打性价比的系列，整体表现和极光 Pro十分接近。#适配器没有采用极光Pro那款小巧的SiC适配器，相对重一些。#在我看来，机械革命搞性价比最大的对手是他们自己：#前段时间我找到了这台机械革命 蛟龙15K，RTX4050游戏本居然仅售#4798元#就这价格还能给高色域屏，这简直是疯了啊……#客观地说，#电脑价格卖便宜了，就必须在某些地方缩水#，即便是机械革命也只能接受QLC硬盘和垃圾网卡。#正所谓#“姜太公钓鱼愿者上钩”#，价格都这么低了，相信真正有需求的用户会自己学着升级硬盘和网卡的#预览时标签不可点#收录于合集 ###机械革命#\\xa035#个#上一篇#聊一款搭载RTX4050的大屏游戏本#下一篇#聊一台拥有12个大核心的游戏本#喜欢此内容的人还喜欢#微信扫一扫#关注该公众号#：#，#。#\\xa0#视频#小程序#赞#，轻点两下取消赞#在看#，轻点两下取消在看#\n",
    "客户诉求是：我想要一台外观材质较好、重量较轻、屏幕素质好的电脑\n",
    "请你针对客户的诉求，介绍该产品的特点，注意只回复客户提及并且产品描述中有相应描述的部分\n",
    "\"\"\""
   ]
  },
  {
   "cell_type": "code",
   "execution_count": 8,
   "id": "216ac2f0-e560-4fcb-8680-1533bf1ba4e4",
   "metadata": {
    "tags": []
   },
   "outputs": [
    {
     "data": {
      "text/plain": [
       "('产品名称：机械革命 极光E 极速版\\n\\n产品描述：\\n机械革命 极光E 极速版是一款入门级别的游戏本，它拥有i7-12650H处理器、RTX4050显卡、16GB DDR4内存、512GB固态硬盘和15.6英寸2560×1440分辨率IPS屏幕等特点。该电脑的外观设计材质较好，重量较轻，屏幕素质好，是一款非常适合想要一款外观材质较好、重量较轻、屏幕素质好的电脑的用户。\\n\\n优点：\\n1. 外观材质较好：该电脑的外观设计材质较好，采用了高品质的金属机身和IPS屏幕，外观时尚、大气，非常适合追求外观的用户。\\n2. 重量较轻：该电脑的机身重量较轻，只有2.15kg，非常适合携带，方便用户在日常生活中使用。\\n3. 屏幕素质好：该电脑采用了2.5K分辨率的IPS屏幕，色域容积高达110.8%，色域覆盖也99.4%，屏幕素质非常好。\\n4. 缺点：\\n1. 使用QLC固态硬盘：该电脑的固态硬盘容量为512GB，型号是Intel 670P,QLC颗粒，支持PCIe3.0x4和NVMe，如有需要可以自行加装固态硬盘。\\n2. 无线网卡性能较差：该电脑的无线网卡是Intel的AX101，支持1T1R和80MHz频宽，最大连接速率600MHz，吞吐性能不如2T2R的WiFi5#160MHz#(最大连接速率1733MHz)#，这对于内外网访问都会有不小的影响，如果有条件可以自行更换网卡。\\n\\n购买建议：\\n1. 不想要太重的游戏本：如果预算不足，就想买高性价比游戏本，那么这台电脑可以考虑一下。\\n2. 对屏幕素质有一定要求：如果对屏幕素质有一定要求，那么机械革命 极光E 极速版最大的特点就是便宜，i7+RTX4050仅售5499元。\\n3. 价格敏感型消费者：机械革命 极光E 极速版最大的特点就是便宜，i7+RTX4050仅售5499元。\\n\\n【升级建议】\\n这台笔记本电脑拆机不难，卸下底面螺丝即可揭开后盖。如果测试机的固态硬盘容量为512GB，型号是Intel 670P,QLC颗粒，支持PCIe3.0x4和NVMe，如有需要可以自行加装固态硬盘。如果升级到1TB的固态硬盘，那么价格会贵一些，但是性能会提升很多。\\n\\n【购买建议】',\n",
       " [('\\n你是一个导购机器人，这里有一篇笔记本电脑的产品描述：\\n#聊一款高性价比的入门级游戏本# #聊一款高性价比的入门级游戏本# #原创#猪王# 笔吧评测室 #2023-04-11 09:59#发表于#上海#收录于合集##机械革命#35#个##价格敏感型消费者#161#个# # # #今日点评【411】# #音频：# # # # # # # # # # # # # # #00:00# #00:27# # # # # # # # # # #说道“性价比游戏本”，很多人的第一反应是“机械革命”，但我们今天的主角并非机械革命 极光Pro，而是师出同门的“极光E”系列。#同样身为极光，极光E的性价比很高，#i7#+#RTX4050#售价#5499元#，是一款很便宜的入门级游戏本。#那么这台电脑实测表现究竟如何？#今天我们就来简单分析一下：#机械革命 极光E 极速版#左滑看接口#机身左侧#机身右侧#机身后部#它的配置如下：#i7-12650H 处理器#RTX4050#6GB 独立显卡（105W）#16GB DDR4#3200MHz 内存#512GB 固态硬盘#15.6英寸 2560×1440分辨率 100%sRGB色域 165Hz刷新率 IPS屏#厚\\xa022.6~26.7mm#机身重\\xa02.15kg#适配器重\\xa0792g#参考售价5499元#它的优缺点如下：#优点！#1，性价比较高#2，同价位游戏本中屏幕素质较好#3，机身重量比较轻#缺点！#1，使用QLC固态硬盘#2，网卡性能较差#3，高负载下，键盘温度较高#【升级建议】#这台笔记本电脑拆机不难，卸下底面螺丝即可揭开后盖。#双通道16GB#DDR4 3200MHz内存能满足大部分用途的需求，如有需要可自行更换内存。#测试机的固态硬盘容量为512GB，型号是Intel 670P，QLC颗粒，支持PCIe3.0x4和NVMe，如有需要可自行加装固态硬盘。#无线网卡是Intel的AX101，支持1T1R和80MHz频宽，最大连接速率600MHz，吞吐性能不如2T2R的WiFi5#160MHz#（最大连接速率1733MHz）#，这对于内外网访问都会有不小的影响，如果有条件可以自行更换网卡。#【购买建议】#1，不想要太重的游戏本#2，对屏幕素质有一定要求#3，价格敏感型消费者#机械革命 极光E 极速版最大的特点就是便宜，i7+RTX4050仅售5499元。#屏幕方面#，它采用了一块经过出厂校色的2.5K165Hz屏，这一点待遇比极光Pro还更高。实测色域容积110.8%sRGB，色域覆盖99.4%sRGB，平均ΔE 1.29，最大ΔE 2.53，实测最大亮度412nit。#接口方面#，机身左侧依次为防盗锁口、USB2.0、耳机麦克风接口；#机身右侧为两个USB-A 5Gbps、SD卡槽#（2.0速率）#；#机身后侧为电源接口、RJ45网口、HDMI2.1、USB-C 10Gbps、miniDP接口。#噪音方面#，在环境噪音为36.9dB时，它的满载人位分贝值为53.5dB。#机械革命 极光E 极速版主要在PDD卖，就是一台专注于杀价的游戏本。#所以如果你的预算不足，就想买高性价比游戏本，那么这台电脑可以考虑一下。#但如果你想要一台各方面表现均衡的游戏本，那么这台电脑并不适合你。#【散热分析】#上图是机械革命 极光E 极速版的拆机实拍图，五热管双风扇的组合。#室温25℃#反射率1.0#BIOS版本：N.1.09MRO08#在满载状态下，开启狂暴模式，CPU温度最高96℃，稳定在91℃左右，功耗50W，P核频率3.0GHz，E核频率2.4GHz；#显卡功耗约105W，温度77.5℃，频率2265MHz。#如果单烤Stress#FPU，CPU温度维持在94℃，功耗82W，P核频率3.9GHz，E核频率3.0GHz。#如果单烤Furmark，显卡温度72.8℃，功耗105W，频率2250MHz。#表面温度如上图所示，键盘键帽最高#47℃#出现在键盘中部，WASD键附近约为39.2℃，方向键32℃。左腕托温度为26.5℃。#总的来说，机械革命 极光E 极速版的散热表现一般，主要问题在于键盘温度控制上，游戏常用的键区比较热，建议有条件的话外接键盘使用。#【猪王的良心结语】#机械革命 极光E 极速版的表现不出所料，作为主打性价比的系列，整体表现和极光 Pro十分接近。#适配器没有采用极光Pro那款小巧的SiC适配器，相对重一些。#在我看来，机械革命搞性价比最大的对手是他们自己：#前段时间我找到了这台机械革命 蛟龙15K，RTX4050游戏本居然仅售#4798元#就这价格还能给高色域屏，这简直是疯了啊……#客观地说，#电脑价格卖便宜了，就必须在某些地方缩水#，即便是机械革命也只能接受QLC硬盘和垃圾网卡。#正所谓#“姜太公钓鱼愿者上钩”#，价格都这么低了，相信真正有需求的用户会自己学着升级硬盘和网卡的#预览时标签不可点#收录于合集 ###机械革命#\\xa035#个#上一篇#聊一款搭载RTX4050的大屏游戏本#下一篇#聊一台拥有12个大核心的游戏本#喜欢此内容的人还喜欢#微信扫一扫#关注该公众号#：#，#。#\\xa0#视频#小程序#赞#，轻点两下取消赞#在看#，轻点两下取消在看#\\n客户诉求是：我想要一台外观材质较好、重量较轻、屏幕素质好的电脑\\n请你针对客户的诉求，介绍该产品的特点，注意只回复客户提及并且产品描述中有相应描述的部分\\n',\n",
       "   '产品名称：机械革命 极光E 极速版\\n\\n产品描述：\\n机械革命 极光E 极速版是一款入门级别的游戏本，它拥有i7-12650H处理器、RTX4050显卡、16GB DDR4内存、512GB固态硬盘和15.6英寸2560×1440分辨率IPS屏幕等特点。该电脑的外观设计材质较好，重量较轻，屏幕素质好，是一款非常适合想要一款外观材质较好、重量较轻、屏幕素质好的电脑的用户。\\n\\n优点：\\n1. 外观材质较好：该电脑的外观设计材质较好，采用了高品质的金属机身和IPS屏幕，外观时尚、大气，非常适合追求外观的用户。\\n2. 重量较轻：该电脑的机身重量较轻，只有2.15kg，非常适合携带，方便用户在日常生活中使用。\\n3. 屏幕素质好：该电脑采用了2.5K分辨率的IPS屏幕，色域容积高达110.8%，色域覆盖也99.4%，屏幕素质非常好。\\n4. 缺点：\\n1. 使用QLC固态硬盘：该电脑的固态硬盘容量为512GB，型号是Intel 670P,QLC颗粒，支持PCIe3.0x4和NVMe，如有需要可以自行加装固态硬盘。\\n2. 无线网卡性能较差：该电脑的无线网卡是Intel的AX101，支持1T1R和80MHz频宽，最大连接速率600MHz，吞吐性能不如2T2R的WiFi5#160MHz#(最大连接速率1733MHz)#，这对于内外网访问都会有不小的影响，如果有条件可以自行更换网卡。\\n\\n购买建议：\\n1. 不想要太重的游戏本：如果预算不足，就想买高性价比游戏本，那么这台电脑可以考虑一下。\\n2. 对屏幕素质有一定要求：如果对屏幕素质有一定要求，那么机械革命 极光E 极速版最大的特点就是便宜，i7+RTX4050仅售5499元。\\n3. 价格敏感型消费者：机械革命 极光E 极速版最大的特点就是便宜，i7+RTX4050仅售5499元。\\n\\n【升级建议】\\n这台笔记本电脑拆机不难，卸下底面螺丝即可揭开后盖。如果测试机的固态硬盘容量为512GB，型号是Intel 670P,QLC颗粒，支持PCIe3.0x4和NVMe，如有需要可以自行加装固态硬盘。如果升级到1TB的固态硬盘，那么价格会贵一些，但是性能会提升很多。\\n\\n【购买建议】')])"
      ]
     },
     "execution_count": 8,
     "metadata": {},
     "output_type": "execute_result"
    }
   ],
   "source": [
    "model.chat(tokenizer, promp, max_length=4096)"
   ]
  },
  {
   "cell_type": "markdown",
   "id": "80244431-c917-49ad-86d6-6aa2539e0c85",
   "metadata": {},
   "source": [
    "# load data"
   ]
  },
  {
   "cell_type": "code",
   "execution_count": 4,
   "id": "ee0e2829-1c0a-46a2-ac8d-b8954657f86c",
   "metadata": {
    "tags": []
   },
   "outputs": [
    {
     "data": {
      "text/plain": [
       "(42, 21)"
      ]
     },
     "execution_count": 4,
     "metadata": {},
     "output_type": "execute_result"
    }
   ],
   "source": [
    "data = pd.read_csv('./data/data.csv')\n",
    "data = data.fillna('')\n",
    "data.shape"
   ]
  },
  {
   "cell_type": "code",
   "execution_count": 5,
   "id": "7113d982-32d5-4b95-ac11-970125e30077",
   "metadata": {
    "tags": []
   },
   "outputs": [
    {
     "data": {
      "text/plain": [
       "Index(['file', 'ori_text', 'text', 'head', '升级建议', '购买建议', '散热分析', '猪王的良心结语',\n",
       "       '游戏测试', '处理器分析', '显卡性能分析', '配置', '优缺点', '优点', '缺点', 'head_short',\n",
       "       '屏幕方面', '接口方面', '噪音方面', '续航方面', 'suggestion_short'],\n",
       "      dtype='object')"
      ]
     },
     "execution_count": 5,
     "metadata": {},
     "output_type": "execute_result"
    }
   ],
   "source": [
    "data.columns"
   ]
  },
  {
   "cell_type": "code",
   "execution_count": 6,
   "id": "1248bbfd-1453-44d3-8b46-a26e835645db",
   "metadata": {
    "tags": []
   },
   "outputs": [],
   "source": [
    "data['common'] = data[['head_short', '优缺点', 'suggestion_short', '猪王的良心结语']].agg('#'.join, axis=1)\n",
    "data['common'] = data['common'].str.replace(r'[#\\s]{2}', '#')"
   ]
  },
  {
   "cell_type": "code",
   "execution_count": 7,
   "id": "565ac9dd-dd90-4ac8-838b-71056727a432",
   "metadata": {
    "tags": []
   },
   "outputs": [
    {
     "ename": "ImportError",
     "evalue": "Missing optional dependency 'xlrd'. Install xlrd >= 2.0.1 for xls Excel support Use pip or conda to install xlrd.",
     "output_type": "error",
     "traceback": [
      "\u001b[0;31m---------------------------------------------------------------------------\u001b[0m",
      "\u001b[0;31mModuleNotFoundError\u001b[0m                       Traceback (most recent call last)",
      "File \u001b[0;32m~/miniconda3/envs/myconda/lib/python3.9/site-packages/pandas/compat/_optional.py:142\u001b[0m, in \u001b[0;36mimport_optional_dependency\u001b[0;34m(name, extra, errors, min_version)\u001b[0m\n\u001b[1;32m    141\u001b[0m \u001b[38;5;28;01mtry\u001b[39;00m:\n\u001b[0;32m--> 142\u001b[0m     module \u001b[38;5;241m=\u001b[39m \u001b[43mimportlib\u001b[49m\u001b[38;5;241;43m.\u001b[39;49m\u001b[43mimport_module\u001b[49m\u001b[43m(\u001b[49m\u001b[43mname\u001b[49m\u001b[43m)\u001b[49m\n\u001b[1;32m    143\u001b[0m \u001b[38;5;28;01mexcept\u001b[39;00m \u001b[38;5;167;01mImportError\u001b[39;00m:\n",
      "File \u001b[0;32m~/miniconda3/envs/myconda/lib/python3.9/importlib/__init__.py:127\u001b[0m, in \u001b[0;36mimport_module\u001b[0;34m(name, package)\u001b[0m\n\u001b[1;32m    126\u001b[0m         level \u001b[38;5;241m+\u001b[39m\u001b[38;5;241m=\u001b[39m \u001b[38;5;241m1\u001b[39m\n\u001b[0;32m--> 127\u001b[0m \u001b[38;5;28;01mreturn\u001b[39;00m \u001b[43m_bootstrap\u001b[49m\u001b[38;5;241;43m.\u001b[39;49m\u001b[43m_gcd_import\u001b[49m\u001b[43m(\u001b[49m\u001b[43mname\u001b[49m\u001b[43m[\u001b[49m\u001b[43mlevel\u001b[49m\u001b[43m:\u001b[49m\u001b[43m]\u001b[49m\u001b[43m,\u001b[49m\u001b[43m \u001b[49m\u001b[43mpackage\u001b[49m\u001b[43m,\u001b[49m\u001b[43m \u001b[49m\u001b[43mlevel\u001b[49m\u001b[43m)\u001b[49m\n",
      "File \u001b[0;32m<frozen importlib._bootstrap>:1030\u001b[0m, in \u001b[0;36m_gcd_import\u001b[0;34m(name, package, level)\u001b[0m\n",
      "File \u001b[0;32m<frozen importlib._bootstrap>:1007\u001b[0m, in \u001b[0;36m_find_and_load\u001b[0;34m(name, import_)\u001b[0m\n",
      "File \u001b[0;32m<frozen importlib._bootstrap>:984\u001b[0m, in \u001b[0;36m_find_and_load_unlocked\u001b[0;34m(name, import_)\u001b[0m\n",
      "\u001b[0;31mModuleNotFoundError\u001b[0m: No module named 'xlrd'",
      "\nDuring handling of the above exception, another exception occurred:\n",
      "\u001b[0;31mImportError\u001b[0m                               Traceback (most recent call last)",
      "Cell \u001b[0;32mIn[7], line 1\u001b[0m\n\u001b[0;32m----> 1\u001b[0m excel \u001b[38;5;241m=\u001b[39m \u001b[43mpd\u001b[49m\u001b[38;5;241;43m.\u001b[39;49m\u001b[43mExcelFile\u001b[49m\u001b[43m(\u001b[49m\u001b[38;5;124;43m'\u001b[39;49m\u001b[38;5;124;43m./data/prompts.xls\u001b[39;49m\u001b[38;5;124;43m'\u001b[39;49m\u001b[43m)\u001b[49m\n\u001b[1;32m      2\u001b[0m prompts \u001b[38;5;241m=\u001b[39m {x: pd\u001b[38;5;241m.\u001b[39mread_excel(excel, sheet_name\u001b[38;5;241m=\u001b[39mx) \u001b[38;5;28;01mfor\u001b[39;00m x \u001b[38;5;129;01min\u001b[39;00m excel\u001b[38;5;241m.\u001b[39msheet_names}\n",
      "File \u001b[0;32m~/miniconda3/envs/myconda/lib/python3.9/site-packages/pandas/io/excel/_base.py:1513\u001b[0m, in \u001b[0;36mExcelFile.__init__\u001b[0;34m(self, path_or_buffer, engine, storage_options)\u001b[0m\n\u001b[1;32m   1510\u001b[0m \u001b[38;5;28mself\u001b[39m\u001b[38;5;241m.\u001b[39mengine \u001b[38;5;241m=\u001b[39m engine\n\u001b[1;32m   1511\u001b[0m \u001b[38;5;28mself\u001b[39m\u001b[38;5;241m.\u001b[39mstorage_options \u001b[38;5;241m=\u001b[39m storage_options\n\u001b[0;32m-> 1513\u001b[0m \u001b[38;5;28mself\u001b[39m\u001b[38;5;241m.\u001b[39m_reader \u001b[38;5;241m=\u001b[39m \u001b[38;5;28;43mself\u001b[39;49m\u001b[38;5;241;43m.\u001b[39;49m\u001b[43m_engines\u001b[49m\u001b[43m[\u001b[49m\u001b[43mengine\u001b[49m\u001b[43m]\u001b[49m\u001b[43m(\u001b[49m\u001b[38;5;28;43mself\u001b[39;49m\u001b[38;5;241;43m.\u001b[39;49m\u001b[43m_io\u001b[49m\u001b[43m,\u001b[49m\u001b[43m \u001b[49m\u001b[43mstorage_options\u001b[49m\u001b[38;5;241;43m=\u001b[39;49m\u001b[43mstorage_options\u001b[49m\u001b[43m)\u001b[49m\n",
      "File \u001b[0;32m~/miniconda3/envs/myconda/lib/python3.9/site-packages/pandas/io/excel/_xlrd.py:34\u001b[0m, in \u001b[0;36mXlrdReader.__init__\u001b[0;34m(self, filepath_or_buffer, storage_options)\u001b[0m\n\u001b[1;32m     24\u001b[0m \u001b[38;5;250m\u001b[39m\u001b[38;5;124;03m\"\"\"\u001b[39;00m\n\u001b[1;32m     25\u001b[0m \u001b[38;5;124;03mReader using xlrd engine.\u001b[39;00m\n\u001b[1;32m     26\u001b[0m \n\u001b[0;32m   (...)\u001b[0m\n\u001b[1;32m     31\u001b[0m \u001b[38;5;124;03m{storage_options}\u001b[39;00m\n\u001b[1;32m     32\u001b[0m \u001b[38;5;124;03m\"\"\"\u001b[39;00m\n\u001b[1;32m     33\u001b[0m err_msg \u001b[38;5;241m=\u001b[39m \u001b[38;5;124m\"\u001b[39m\u001b[38;5;124mInstall xlrd >= 2.0.1 for xls Excel support\u001b[39m\u001b[38;5;124m\"\u001b[39m\n\u001b[0;32m---> 34\u001b[0m \u001b[43mimport_optional_dependency\u001b[49m\u001b[43m(\u001b[49m\u001b[38;5;124;43m\"\u001b[39;49m\u001b[38;5;124;43mxlrd\u001b[39;49m\u001b[38;5;124;43m\"\u001b[39;49m\u001b[43m,\u001b[49m\u001b[43m \u001b[49m\u001b[43mextra\u001b[49m\u001b[38;5;241;43m=\u001b[39;49m\u001b[43merr_msg\u001b[49m\u001b[43m)\u001b[49m\n\u001b[1;32m     35\u001b[0m \u001b[38;5;28msuper\u001b[39m()\u001b[38;5;241m.\u001b[39m\u001b[38;5;21m__init__\u001b[39m(filepath_or_buffer, storage_options\u001b[38;5;241m=\u001b[39mstorage_options)\n",
      "File \u001b[0;32m~/miniconda3/envs/myconda/lib/python3.9/site-packages/pandas/compat/_optional.py:145\u001b[0m, in \u001b[0;36mimport_optional_dependency\u001b[0;34m(name, extra, errors, min_version)\u001b[0m\n\u001b[1;32m    143\u001b[0m \u001b[38;5;28;01mexcept\u001b[39;00m \u001b[38;5;167;01mImportError\u001b[39;00m:\n\u001b[1;32m    144\u001b[0m     \u001b[38;5;28;01mif\u001b[39;00m errors \u001b[38;5;241m==\u001b[39m \u001b[38;5;124m\"\u001b[39m\u001b[38;5;124mraise\u001b[39m\u001b[38;5;124m\"\u001b[39m:\n\u001b[0;32m--> 145\u001b[0m         \u001b[38;5;28;01mraise\u001b[39;00m \u001b[38;5;167;01mImportError\u001b[39;00m(msg)\n\u001b[1;32m    146\u001b[0m     \u001b[38;5;28;01mreturn\u001b[39;00m \u001b[38;5;28;01mNone\u001b[39;00m\n\u001b[1;32m    148\u001b[0m \u001b[38;5;66;03m# Handle submodules: if we have submodule, grab parent module from sys.modules\u001b[39;00m\n",
      "\u001b[0;31mImportError\u001b[0m: Missing optional dependency 'xlrd'. Install xlrd >= 2.0.1 for xls Excel support Use pip or conda to install xlrd."
     ]
    }
   ],
   "source": [
    "excel = pd.ExcelFile('./data/prompts.xls')\n",
    "prompts = {x: pd.read_excel(excel, sheet_name=x) for x in excel.sheet_names}"
   ]
  },
  {
   "cell_type": "code",
   "execution_count": null,
   "id": "29dcfcf0-c415-4a17-9bf4-45b061da58e7",
   "metadata": {},
   "outputs": [],
   "source": []
  },
  {
   "cell_type": "markdown",
   "id": "41c02193-57ef-45b5-b9ee-432e3abc8a84",
   "metadata": {},
   "source": [
    "# prompts and extract description"
   ]
  },
  {
   "cell_type": "code",
   "execution_count": 11,
   "id": "701fbd27-b03e-4cfe-b308-56bf8d52298e",
   "metadata": {
    "tags": []
   },
   "outputs": [],
   "source": [
    "answers = {}\n",
    "def get_propmt(feature):\n",
    "    return f'你是一个信息抽取模型，你负责从一篇笔记本电脑的评测文章中帮我提取该产品的“{feature}”描述。如未找到相关描述则回复“未描述”。'"
   ]
  },
  {
   "cell_type": "code",
   "execution_count": null,
   "id": "0b9020a1-ab31-4514-b474-817e5ebe63a1",
   "metadata": {
    "tags": []
   },
   "outputs": [
    {
     "name": "stderr",
     "output_type": "stream",
     "text": [
      "品牌: 100%|██████████| 42/42 [01:43<00:00,  2.46s/it]\n",
      "型号: 100%|██████████| 42/42 [02:25<00:00,  3.46s/it]\n",
      "价格:   0%|          | 0/42 [00:00<?, ?it/s]Token indices sequence length is longer than the specified maximum sequence length for this model (2528 > 2048). Running this sequence through the model will result in indexing errors\n",
      "价格: 100%|██████████| 42/42 [04:46<00:00,  6.82s/it]\n",
      "屏幕: 100%|██████████| 42/42 [05:17<00:00,  7.55s/it]\n",
      "性能: 100%|██████████| 42/42 [12:33<00:00, 17.95s/it]\n",
      "散热: 100%|██████████| 42/42 [10:31<00:00, 15.04s/it]\n",
      "重量: 100%|██████████| 42/42 [06:07<00:00,  8.76s/it]\n",
      "体积: 100%|██████████| 42/42 [05:31<00:00,  7.89s/it]\n",
      "外观: 100%|██████████| 42/42 [06:18<00:00,  9.02s/it]\n",
      "升级难度: 100%|██████████| 42/42 [06:05<00:00,  8.71s/it]\n",
      "接口支持: 100%|██████████| 42/42 [09:20<00:00, 13.35s/it]\n",
      "噪音: 100%|██████████| 42/42 [01:30<00:00,  2.16s/it]\n",
      "续航: 100%|██████████| 42/42 [01:27<00:00,  2.09s/it]\n",
      "售后:  98%|█████████▊| 41/42 [04:06<00:06,  6.38s/it]"
     ]
    }
   ],
   "source": [
    "for key, df in prompts.items():\n",
    "    sample1, sample2 = df.at[1, 'sample'], df.at[2, 'sample']\n",
    "    few_shot_history = [\n",
    "        (df.at[0, 'sample'], f'好的, 我会帮你抽取该产品的“{key}”描述'),\n",
    "        (sample1[:sample1.find('答案应该是')], re.search(r'答案应该是：?(.*)', sample1).group(1)),\n",
    "        (sample2[:sample2.find('答案应该是')], re.search(r'答案应该是：?(.*)', sample2).group(1)),\n",
    "    ]\n",
    "    tqdm.pandas(desc=key)\n",
    "    answers[key] = df['prompt'].progress_apply(lambda x: x and model.chat(tokenizer, x, history=few_shot_history, max_length=4096)[0])"
   ]
  },
  {
   "cell_type": "code",
   "execution_count": null,
   "id": "241d5383-1d6b-423a-8b9f-db3aed880fef",
   "metadata": {
    "tags": []
   },
   "outputs": [],
   "source": [
    "pd.DataFrame(answers).to_csv('./data/infos.csv', index=False)"
   ]
  },
  {
   "cell_type": "code",
   "execution_count": null,
   "id": "b8614d2f-2c27-4e6c-889e-c089cb510b0d",
   "metadata": {},
   "outputs": [],
   "source": []
  }
 ],
 "metadata": {
  "kernelspec": {
   "display_name": "Python 3 (ipykernel)",
   "language": "python",
   "name": "python3"
  },
  "language_info": {
   "codemirror_mode": {
    "name": "ipython",
    "version": 3
   },
   "file_extension": ".py",
   "mimetype": "text/x-python",
   "name": "python",
   "nbconvert_exporter": "python",
   "pygments_lexer": "ipython3",
   "version": "3.8.13"
  }
 },
 "nbformat": 4,
 "nbformat_minor": 5
}
